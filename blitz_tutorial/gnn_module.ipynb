{
 "cells": [
  {
   "cell_type": "code",
   "execution_count": 2,
   "metadata": {},
   "outputs": [],
   "source": [
    "import os\n",
    "os.environ[\"DGLBACKEND\"] = \"pytorch\"\n",
    "import dgl\n",
    "import dgl.data\n",
    "import dgl.function as fn\n",
    "import torch\n",
    "import torch.nn as nn\n",
    "import torch.nn.functional as F"
   ]
  },
  {
   "cell_type": "code",
   "execution_count": 5,
   "metadata": {},
   "outputs": [],
   "source": [
    "class SAGEConv(nn.Module):\n",
    "    def __init__(self, in_feat, out_feat):\n",
    "        super(SAGEConv, self).__init__()\n",
    "        self.linear = nn.Linear(in_feat * 2, out_feat)\n",
    "    \n",
    "    def forward(self, g, h):\n",
    "        with g.local_scope():\n",
    "            g.ndata[\"h\"] = h\n",
    "            g.update_all(\n",
    "                message_func=fn.copy_u(\"h\", \"m\"),\n",
    "                reduce_func=fn.mean(\"m\", \"h_N\"),\n",
    "            )\n",
    "            h_N = g.ndata[\"h_N\"]\n",
    "            h_total = torch.cat([h, h_N], dim=1)\n",
    "            return self.linear(h_total)"
   ]
  },
  {
   "cell_type": "code",
   "execution_count": 6,
   "metadata": {},
   "outputs": [],
   "source": [
    "class Model(nn.Module):\n",
    "    def __init__(self, in_feats, h_feats, num_classes):\n",
    "        super(Model, self).__init__()\n",
    "        self.conv1 = SAGEConv(in_feats, h_feats)\n",
    "        self.conv2 = SAGEConv(h_feats, num_classes)\n",
    "    \n",
    "    def forward(self, g, in_feat):\n",
    "        h = self.conv1(g, in_feat)\n",
    "        h = F.relu(h)\n",
    "        h = self.conv2(g, h)\n",
    "        return h"
   ]
  },
  {
   "cell_type": "code",
   "execution_count": 7,
   "metadata": {},
   "outputs": [],
   "source": [
    "def train(g, model):\n",
    "    optimizer = torch.optim.Adam(model.parameters(), lr=0.01)\n",
    "    all_logits = []\n",
    "    best_val_acc = 0 \n",
    "    best_test_acc = 0\n",
    "\n",
    "    features = g.ndata['feat']\n",
    "    labels = g.ndata['label']\n",
    "    train_mask = g.ndata['train_mask']\n",
    "    val_mask = g.ndata['val_mask']\n",
    "    test_mask = g.ndata['test_mask']\n",
    "\n",
    "    for epoch in range(200):\n",
    "        logits = model(g, features)\n",
    "        pred = logits.argmax(1)\n",
    "        loss = F.cross_entropy(logits[train_mask], labels[train_mask])\n",
    "        train_acc = (pred[train_mask] == labels[train_mask]).float().mean()\n",
    "        val_acc = (pred[val_mask] == labels[val_mask]).float().mean()\n",
    "        test_acc = (pred[test_mask] == labels[test_mask]).float().mean()\n",
    "\n",
    "        if val_acc > best_val_acc:\n",
    "            best_val_acc = val_acc\n",
    "            best_test_acc = test_acc\n",
    "\n",
    "        optimizer.zero_grad()\n",
    "        loss.backward()\n",
    "        optimizer.step()\n",
    "        all_logits.append(logits.detach())\n",
    "\n",
    "        if epoch % 5 == 0:\n",
    "            print(f'Epoch {epoch}, loss: {loss:.3f}, val acc: {val_acc:.3f} (best {best_val_acc:.3f}), test acc: {test_acc:.3f} (best: {best_test_acc:.3f})')\n",
    "    "
   ]
  },
  {
   "cell_type": "code",
   "execution_count": 8,
   "metadata": {},
   "outputs": [
    {
     "name": "stdout",
     "output_type": "stream",
     "text": [
      "  NumNodes: 2708\n",
      "  NumEdges: 10556\n",
      "  NumFeats: 1433\n",
      "  NumClasses: 7\n",
      "  NumTrainingSamples: 140\n",
      "  NumValidationSamples: 500\n",
      "  NumTestSamples: 1000\n",
      "Done loading data from cached files.\n",
      "Epoch 0, loss: 1.952, val acc: 0.124 (best 0.124), test acc: 0.130 (best: 0.130)\n",
      "Epoch 5, loss: 1.880, val acc: 0.156 (best 0.156), test acc: 0.170 (best: 0.170)\n",
      "Epoch 10, loss: 1.744, val acc: 0.418 (best 0.418), test acc: 0.405 (best: 0.405)\n",
      "Epoch 15, loss: 1.536, val acc: 0.558 (best 0.558), test acc: 0.535 (best: 0.535)\n",
      "Epoch 20, loss: 1.263, val acc: 0.642 (best 0.642), test acc: 0.595 (best: 0.595)\n",
      "Epoch 25, loss: 0.952, val acc: 0.682 (best 0.682), test acc: 0.645 (best: 0.645)\n",
      "Epoch 30, loss: 0.652, val acc: 0.708 (best 0.708), test acc: 0.687 (best: 0.687)\n",
      "Epoch 35, loss: 0.409, val acc: 0.728 (best 0.728), test acc: 0.722 (best: 0.722)\n",
      "Epoch 40, loss: 0.242, val acc: 0.730 (best 0.736), test acc: 0.726 (best: 0.725)\n",
      "Epoch 45, loss: 0.142, val acc: 0.728 (best 0.736), test acc: 0.731 (best: 0.725)\n",
      "Epoch 50, loss: 0.085, val acc: 0.728 (best 0.736), test acc: 0.734 (best: 0.725)\n",
      "Epoch 55, loss: 0.054, val acc: 0.728 (best 0.736), test acc: 0.735 (best: 0.725)\n",
      "Epoch 60, loss: 0.037, val acc: 0.728 (best 0.736), test acc: 0.738 (best: 0.725)\n",
      "Epoch 65, loss: 0.027, val acc: 0.736 (best 0.736), test acc: 0.738 (best: 0.725)\n",
      "Epoch 70, loss: 0.021, val acc: 0.740 (best 0.740), test acc: 0.739 (best: 0.738)\n",
      "Epoch 75, loss: 0.017, val acc: 0.738 (best 0.740), test acc: 0.738 (best: 0.738)\n",
      "Epoch 80, loss: 0.014, val acc: 0.740 (best 0.740), test acc: 0.738 (best: 0.738)\n",
      "Epoch 85, loss: 0.012, val acc: 0.742 (best 0.742), test acc: 0.737 (best: 0.739)\n",
      "Epoch 90, loss: 0.011, val acc: 0.740 (best 0.742), test acc: 0.738 (best: 0.739)\n",
      "Epoch 95, loss: 0.010, val acc: 0.742 (best 0.742), test acc: 0.737 (best: 0.739)\n",
      "Epoch 100, loss: 0.009, val acc: 0.742 (best 0.742), test acc: 0.737 (best: 0.739)\n",
      "Epoch 105, loss: 0.008, val acc: 0.744 (best 0.744), test acc: 0.738 (best: 0.737)\n",
      "Epoch 110, loss: 0.007, val acc: 0.746 (best 0.746), test acc: 0.739 (best: 0.738)\n",
      "Epoch 115, loss: 0.007, val acc: 0.744 (best 0.746), test acc: 0.738 (best: 0.738)\n",
      "Epoch 120, loss: 0.006, val acc: 0.744 (best 0.746), test acc: 0.739 (best: 0.738)\n",
      "Epoch 125, loss: 0.006, val acc: 0.746 (best 0.746), test acc: 0.739 (best: 0.738)\n",
      "Epoch 130, loss: 0.006, val acc: 0.744 (best 0.746), test acc: 0.740 (best: 0.738)\n",
      "Epoch 135, loss: 0.005, val acc: 0.744 (best 0.746), test acc: 0.740 (best: 0.738)\n",
      "Epoch 140, loss: 0.005, val acc: 0.744 (best 0.746), test acc: 0.739 (best: 0.738)\n",
      "Epoch 145, loss: 0.005, val acc: 0.744 (best 0.746), test acc: 0.738 (best: 0.738)\n",
      "Epoch 150, loss: 0.004, val acc: 0.744 (best 0.746), test acc: 0.737 (best: 0.738)\n",
      "Epoch 155, loss: 0.004, val acc: 0.742 (best 0.746), test acc: 0.736 (best: 0.738)\n",
      "Epoch 160, loss: 0.004, val acc: 0.742 (best 0.746), test acc: 0.736 (best: 0.738)\n",
      "Epoch 165, loss: 0.004, val acc: 0.746 (best 0.746), test acc: 0.736 (best: 0.738)\n",
      "Epoch 170, loss: 0.004, val acc: 0.746 (best 0.746), test acc: 0.737 (best: 0.738)\n",
      "Epoch 175, loss: 0.003, val acc: 0.746 (best 0.746), test acc: 0.736 (best: 0.738)\n",
      "Epoch 180, loss: 0.003, val acc: 0.746 (best 0.746), test acc: 0.734 (best: 0.738)\n",
      "Epoch 185, loss: 0.003, val acc: 0.746 (best 0.746), test acc: 0.734 (best: 0.738)\n",
      "Epoch 190, loss: 0.003, val acc: 0.744 (best 0.746), test acc: 0.734 (best: 0.738)\n",
      "Epoch 195, loss: 0.003, val acc: 0.744 (best 0.746), test acc: 0.733 (best: 0.738)\n"
     ]
    }
   ],
   "source": [
    "dataset = dgl.data.CoraGraphDataset()\n",
    "g = dataset[0]\n",
    "model = Model(g.ndata['feat'].shape[1], 16, dataset.num_classes)\n",
    "train(g, model)"
   ]
  },
  {
   "cell_type": "code",
   "execution_count": 18,
   "metadata": {},
   "outputs": [],
   "source": [
    "class WeightedSAGEConv(nn.Module):\n",
    "    def __init__(self, in_feat, out_feat):\n",
    "        super(WeightedSAGEConv, self).__init__()\n",
    "        self.linear = nn.Linear(in_feat * 2, out_feat)\n",
    "    \n",
    "    def forward(self, g, h, w):\n",
    "        with g.local_scope():\n",
    "            g.ndata['h'] = h\n",
    "            g.edata['w'] = w\n",
    "            g.update_all(\n",
    "                message_func=fn.u_mul_e('h', 'w', 'm'),\n",
    "                reduce_func=fn.mean('m', 'h_N'),\n",
    "            )\n",
    "            h_N = g.ndata['h_N']\n",
    "            h_total = torch.cat([h, h_N], dim=1)\n",
    "            return self.linear(h_total)"
   ]
  },
  {
   "cell_type": "code",
   "execution_count": 19,
   "metadata": {},
   "outputs": [],
   "source": [
    "class WeightedModel(nn.Module):\n",
    "    def __init__(self, in_feats, h_feats, num_classes):\n",
    "        super(WeightedModel, self).__init__()\n",
    "        self.conv1 = WeightedSAGEConv(in_feats, h_feats)\n",
    "        self.conv2 = WeightedSAGEConv(h_feats, num_classes)\n",
    "    \n",
    "    def forward(self, g, in_feat):\n",
    "        # no edge weights in dataset, so use ones as placeholder\n",
    "        h = self.conv1(g, in_feat, torch.ones(g.num_edges(), 1).to(g.device))\n",
    "        h = F.relu(h)\n",
    "        h = self.conv2(g, h, torch.ones(g.num_edges(), 1).to(g.device))\n",
    "        return h"
   ]
  },
  {
   "cell_type": "code",
   "execution_count": 20,
   "metadata": {},
   "outputs": [
    {
     "name": "stdout",
     "output_type": "stream",
     "text": [
      "Epoch 0, loss: 1.947, val acc: 0.162 (best 0.162), test acc: 0.149 (best: 0.149)\n",
      "Epoch 5, loss: 1.869, val acc: 0.544 (best 0.600), test acc: 0.554 (best: 0.600)\n",
      "Epoch 10, loss: 1.714, val acc: 0.532 (best 0.600), test acc: 0.518 (best: 0.600)\n",
      "Epoch 15, loss: 1.475, val acc: 0.572 (best 0.600), test acc: 0.584 (best: 0.600)\n",
      "Epoch 20, loss: 1.167, val acc: 0.624 (best 0.624), test acc: 0.635 (best: 0.635)\n",
      "Epoch 25, loss: 0.831, val acc: 0.674 (best 0.674), test acc: 0.672 (best: 0.672)\n",
      "Epoch 30, loss: 0.531, val acc: 0.702 (best 0.702), test acc: 0.702 (best: 0.702)\n",
      "Epoch 35, loss: 0.311, val acc: 0.726 (best 0.726), test acc: 0.726 (best: 0.726)\n",
      "Epoch 40, loss: 0.175, val acc: 0.752 (best 0.752), test acc: 0.744 (best: 0.744)\n",
      "Epoch 45, loss: 0.099, val acc: 0.750 (best 0.754), test acc: 0.755 (best: 0.751)\n",
      "Epoch 50, loss: 0.058, val acc: 0.750 (best 0.754), test acc: 0.752 (best: 0.751)\n",
      "Epoch 55, loss: 0.037, val acc: 0.750 (best 0.754), test acc: 0.755 (best: 0.751)\n",
      "Epoch 60, loss: 0.025, val acc: 0.752 (best 0.754), test acc: 0.757 (best: 0.751)\n",
      "Epoch 65, loss: 0.019, val acc: 0.752 (best 0.754), test acc: 0.759 (best: 0.751)\n",
      "Epoch 70, loss: 0.015, val acc: 0.752 (best 0.754), test acc: 0.760 (best: 0.751)\n",
      "Epoch 75, loss: 0.012, val acc: 0.752 (best 0.754), test acc: 0.760 (best: 0.751)\n",
      "Epoch 80, loss: 0.010, val acc: 0.750 (best 0.754), test acc: 0.762 (best: 0.751)\n",
      "Epoch 85, loss: 0.009, val acc: 0.750 (best 0.754), test acc: 0.763 (best: 0.751)\n",
      "Epoch 90, loss: 0.008, val acc: 0.750 (best 0.754), test acc: 0.764 (best: 0.751)\n",
      "Epoch 95, loss: 0.007, val acc: 0.752 (best 0.754), test acc: 0.766 (best: 0.751)\n",
      "Epoch 100, loss: 0.007, val acc: 0.752 (best 0.754), test acc: 0.766 (best: 0.751)\n",
      "Epoch 105, loss: 0.006, val acc: 0.752 (best 0.754), test acc: 0.766 (best: 0.751)\n",
      "Epoch 110, loss: 0.006, val acc: 0.752 (best 0.754), test acc: 0.767 (best: 0.751)\n",
      "Epoch 115, loss: 0.005, val acc: 0.752 (best 0.754), test acc: 0.767 (best: 0.751)\n",
      "Epoch 120, loss: 0.005, val acc: 0.752 (best 0.754), test acc: 0.766 (best: 0.751)\n",
      "Epoch 125, loss: 0.005, val acc: 0.752 (best 0.754), test acc: 0.766 (best: 0.751)\n",
      "Epoch 130, loss: 0.004, val acc: 0.754 (best 0.754), test acc: 0.766 (best: 0.751)\n",
      "Epoch 135, loss: 0.004, val acc: 0.754 (best 0.754), test acc: 0.766 (best: 0.751)\n",
      "Epoch 140, loss: 0.004, val acc: 0.754 (best 0.754), test acc: 0.768 (best: 0.751)\n",
      "Epoch 145, loss: 0.004, val acc: 0.754 (best 0.754), test acc: 0.768 (best: 0.751)\n",
      "Epoch 150, loss: 0.003, val acc: 0.756 (best 0.756), test acc: 0.766 (best: 0.766)\n",
      "Epoch 155, loss: 0.003, val acc: 0.754 (best 0.756), test acc: 0.767 (best: 0.766)\n",
      "Epoch 160, loss: 0.003, val acc: 0.754 (best 0.756), test acc: 0.766 (best: 0.766)\n",
      "Epoch 165, loss: 0.003, val acc: 0.752 (best 0.756), test acc: 0.766 (best: 0.766)\n",
      "Epoch 170, loss: 0.003, val acc: 0.752 (best 0.756), test acc: 0.765 (best: 0.766)\n",
      "Epoch 175, loss: 0.003, val acc: 0.752 (best 0.756), test acc: 0.766 (best: 0.766)\n",
      "Epoch 180, loss: 0.003, val acc: 0.752 (best 0.756), test acc: 0.766 (best: 0.766)\n",
      "Epoch 185, loss: 0.002, val acc: 0.752 (best 0.756), test acc: 0.766 (best: 0.766)\n",
      "Epoch 190, loss: 0.002, val acc: 0.752 (best 0.756), test acc: 0.766 (best: 0.766)\n",
      "Epoch 195, loss: 0.002, val acc: 0.752 (best 0.756), test acc: 0.767 (best: 0.766)\n"
     ]
    }
   ],
   "source": [
    "model = WeightedModel(g.ndata['feat'].shape[1], 16, dataset.num_classes)\n",
    "train(g, model)"
   ]
  },
  {
   "cell_type": "code",
   "execution_count": null,
   "metadata": {},
   "outputs": [],
   "source": []
  }
 ],
 "metadata": {
  "kernelspec": {
   "display_name": "Python 3",
   "language": "python",
   "name": "python3"
  },
  "language_info": {
   "codemirror_mode": {
    "name": "ipython",
    "version": 3
   },
   "file_extension": ".py",
   "mimetype": "text/x-python",
   "name": "python",
   "nbconvert_exporter": "python",
   "pygments_lexer": "ipython3",
   "version": "3.10.12"
  }
 },
 "nbformat": 4,
 "nbformat_minor": 2
}
